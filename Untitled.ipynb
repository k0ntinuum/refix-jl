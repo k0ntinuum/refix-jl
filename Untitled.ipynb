{
 "cells": [
  {
   "cell_type": "code",
   "execution_count": 1,
   "id": "3eeb7728",
   "metadata": {},
   "outputs": [],
   "source": [
    "struct State\n",
    "    try_to_consume   :: String\n",
    "    write_on_success :: String\n",
    "    write_on_failure :: String\n",
    "    jump_on_success  :: Int64\n",
    "    jump_on_failure  :: Int64\n",
    "end\n",
    "\n",
    "function state_from(s)\n",
    "    s = split(s)\n",
    "    State(s[1],s[2],s[3],parse(Int64,s[4]),parse(Int64,s[5]))\n",
    "end\n",
    "    "
   ]
  },
  {
   "cell_type": "code",
   "execution_count": 2,
   "id": "9a3ec870",
   "metadata": {},
   "outputs": [
    {
     "data": {
      "text/plain": [
       "2-element Vector{State}:\n",
       " State(\"OO\", \"|\", \"O\", 2, 40)\n",
       " State(\"O\", \"|\", \"O\", 3, 40)"
      ]
     },
     "execution_count": 2,
     "metadata": {},
     "output_type": "execute_result"
    }
   ],
   "source": [
    "f = State[]\n",
    "push!(f,State(\"OO\",\"|\",\"O\",2,4))\n",
    "push!(f,State(\"O\" ,\"|\",\"O\",3,4))\n",
    "push!(f,State(\"|\", \"O|\",\"||\",4,4))\n",
    "push!(f,State(\"O|\" \"|O\",\"O\",3,4))\n",
    "push!(f,State(\"OO\",\"|\",\"O\",2,4))\n",
    "push!(f,State(\"O\" ,\"|\",\"O\",3,4))"
   ]
  },
  {
   "cell_type": "code",
   "execution_count": 5,
   "id": "166c244e",
   "metadata": {},
   "outputs": [
    {
     "data": {
      "text/plain": [
       "'O': ASCII/Unicode U+004F (category Lu: Letter, uppercase)"
      ]
     },
     "execution_count": 5,
     "metadata": {},
     "output_type": "execute_result"
    }
   ],
   "source": []
  },
  {
   "cell_type": "code",
   "execution_count": 14,
   "id": "bce5470f",
   "metadata": {},
   "outputs": [
    {
     "data": {
      "text/plain": [
       "state_from (generic function with 1 method)"
      ]
     },
     "execution_count": 14,
     "metadata": {},
     "output_type": "execute_result"
    }
   ],
   "source": []
  },
  {
   "cell_type": "code",
   "execution_count": 9,
   "id": "4ef92bbc",
   "metadata": {},
   "outputs": [
    {
     "data": {
      "text/plain": [
       "5-element Vector{SubString{String}}:\n",
       " \"O||\"\n",
       " \"||O\"\n",
       " \"O|\"\n",
       " \"3\"\n",
       " \"4\""
      ]
     },
     "execution_count": 9,
     "metadata": {},
     "output_type": "execute_result"
    }
   ],
   "source": [
    "state_from_string(\"O|| ||O O| 3 4\")"
   ]
  },
  {
   "cell_type": "code",
   "execution_count": 11,
   "id": "ccdd493a",
   "metadata": {},
   "outputs": [
    {
     "data": {
      "text/plain": [
       "3"
      ]
     },
     "execution_count": 11,
     "metadata": {},
     "output_type": "execute_result"
    }
   ],
   "source": [
    "parse(Int64,\"3\")"
   ]
  },
  {
   "cell_type": "code",
   "execution_count": 16,
   "id": "ec32e32f",
   "metadata": {},
   "outputs": [
    {
     "data": {
      "text/plain": [
       "4-element Vector{State}:\n",
       " State(\"OO\", \"|\", \"O\", 3, 4)\n",
       " State(\"O\", \"|O\", \"O\", 2, 5)\n",
       " State(\"|\", \"O\", \"|\", 4, 0)\n",
       " State(\"||\", \"|O\", \"O|\", 1, 3)"
      ]
     },
     "execution_count": 16,
     "metadata": {},
     "output_type": "execute_result"
    }
   ],
   "source": [
    "f = State[]\n",
    "push!(f,state_from(\"  OO |   O   3 4\"))\n",
    "push!(f,state_from(\"  O  |O  O   2 5\"))\n",
    "push!(f,state_from(\"  |  O   |   4 0\"))\n",
    "push!(f,state_from(\"  || |O  O|  1 3\"))\n",
    "\n"
   ]
  },
  {
   "cell_type": "code",
   "execution_count": null,
   "id": "0056b84c",
   "metadata": {},
   "outputs": [],
   "source": []
  }
 ],
 "metadata": {
  "kernelspec": {
   "display_name": "Julia 1.9.3",
   "language": "julia",
   "name": "julia-1.9"
  },
  "language_info": {
   "file_extension": ".jl",
   "mimetype": "application/julia",
   "name": "julia",
   "version": "1.9.3"
  }
 },
 "nbformat": 4,
 "nbformat_minor": 5
}
